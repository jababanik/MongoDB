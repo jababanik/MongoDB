{
 "cells": [
  {
   "cell_type": "markdown",
   "metadata": {},
   "source": [
    "##Convert a json data from mongodb to required format and write in excel"
   ]
  },
  {
   "cell_type": "code",
   "execution_count": 1,
   "metadata": {},
   "outputs": [],
   "source": [
    "jsondata =[{'_id': 724435670.0, 'BRANCH': 'AKV', 'CNSDT': 43434.0, 'CNSNO': 724435670.0, 'CNSTO': 'AKR', 'EXP': 5272.75, \n",
    "  'INCOME': 3584.0, 'reason_loss': {'msp_loss': {'loss': 1, 'actual_card_rate': 6.12, 'expected_card_rate': 9.57},\n",
    "                                    'weight_loss': {'loss': 1, 'wt_loss_desc1': 'AKV-LAM', 'wt_loss_val_exp1': 1.0,\n",
    "                                                    'wt_loss_val_act1': 1.078}}},\n",
    "{'_id': 724423206.0, 'BRANCH': 'AKV', 'CNSDT': 43428.0, 'CNSNO': 724423206.0, 'CNSTO': 'AKR', 'EXP': 3888.76, \n",
    " 'INCOME': 3654.0, \n",
    " 'reason_loss': {'msp_loss': {'loss': 1, 'actual_card_rate': 6.119999999999999, 'expected_card_rate': 8.98}}},\n",
    " {'_id': 724422683.0, 'BRANCH': 'AKV', 'CNSDT': 43423.0, 'CNSNO': 724422683.0, 'CNSTO': 'AKR', 'EXP': 1725.34, \n",
    "  'INCOME': 1373.0, 'reason_loss': {'msp_loss': {'loss': 1, 'actual_card_rate':\n",
    "6.12, 'expected_card_rate': 9.57}, \n",
    "'weight_loss': {'loss': 1, 'wt_loss_desc1': 'AKV-LAM', 'wt_loss_val_exp1': 1.0, 'wt_loss_val_act1': 1.2137}}},\n",
    " {'_id': 724421865.0, 'BRANCH': 'AKV', 'CNSDT': 43410.0, 'CNSNO': 724421865.0, 'CNSTO': 'AKR', 'EXP': 803.65, \n",
    "  'INCOME': 731.0, \n",
    "  'reason_loss': {'msp_loss': {'loss': 1, 'actual_card_rate': 6.119999999999999, 'expected_card_rate': 9.57},\n",
    "                  'weight_loss': {'loss': 1, 'wt_loss_desc1': 'AKV-LAM', 'wt_loss_val_exp1': 1.0,\n",
    "                                  'wt_loss_val_act1': 1.6727}}}, {'_id': 724420071.0, 'BRANCH': 'AKV',\n",
    "                                                                  'CNSDT': 43404.0, 'CNSNO': 724420071.0,\n",
    "                                                                  'CNSTO': 'AKR', 'EXP': 787.24, 'INCOME': 681.0, \n",
    "                                                                  'reason_loss': \n",
    "                                                                  {'msp_loss': {'loss': 1, \n",
    "                                                                                'actual_card_rate': 6.119999999999999, \n",
    "                                                                                'expected_card_rate': 9.57}}},\n",
    " {'_id': 724420104.0, 'BRANCH': 'AKV', 'CNSDT': 43403.0, 'CNSNO': 724420104.0, 'CNSTO': 'AKR', 'EXP': 437.36, \n",
    "  'INCOME': 436.0, 'reason_loss': {'msp_loss': {'loss': 1, 'actual_card_rate': 6.12, 'expected_card_rate': 9.57}}},\n",
    " {'_id': 724420126.0, 'BRANCH': 'AKV', 'CNSDT': 43403.0, 'CNSNO': 724420126.0, 'CNSTO': 'AKR', 'EXP': 1151.05, \n",
    "  'INCOME': 956.0, 'reason_loss': {'msp_loss': {'loss': 1, 'actual_card_rate': 6.12, 'expected_card_rate': 9.57}}},\n",
    " {'_id': 724399384.0, 'BRANCH': 'AKV', 'CNSDT': 43390.0, 'CNSNO': 724399384.0, 'CNSTO': 'AKR', 'EXP': 544.56, \n",
    "  'INCOME': 543.0, 'reason_loss': {'msp_loss': {'loss': 1, 'actual_card_rate': 6.12, 'expected_card_rate': 9.57}}},\n",
    " {'_id': 724398662.0, 'BRANCH': 'AKV', 'CNSDT': 43382.0, 'CNSNO': 724398662.0, 'CNSTO': 'AKR', 'EXP': 1154.29, \n",
    "  'INCOME': 986.0, 'reason_loss': {'msp_loss': {'loss': 1, 'actual_card_rate': 6.12, 'expected_card_rate': 9.57}}}, \n",
    " {'_id': 724398500.0, 'BRANCH': 'AKV', 'CNSDT': 43378.0, 'CNSNO': 724398500.0, 'CNSTO': 'AKR', 'EXP': 7643.33, \n",
    "  'INCOME': 6394.0, 'reason_loss': {'msp_loss': {'loss': 1, 'actual_card_rate': 6.12, 'expected_card_rate': 8.98}}}]"
   ]
  },
  {
   "cell_type": "code",
   "execution_count": null,
   "metadata": {},
   "outputs": [],
   "source": [
    "type(jsondata)"
   ]
  },
  {
   "cell_type": "code",
   "execution_count": null,
   "metadata": {},
   "outputs": [],
   "source": [
    "import pandas as pd\n",
    "df = pd.DataFrame(jsondata)\n",
    "print(df)"
   ]
  },
  {
   "cell_type": "code",
   "execution_count": null,
   "metadata": {},
   "outputs": [],
   "source": [
    "len(df)"
   ]
  },
  {
   "cell_type": "code",
   "execution_count": 6,
   "metadata": {},
   "outputs": [
    {
     "data": {
      "text/plain": [
       "dict"
      ]
     },
     "execution_count": 6,
     "metadata": {},
     "output_type": "execute_result"
    }
   ],
   "source": [
    "type(jsondata[1][\"reason_loss\"])"
   ]
  },
  {
   "cell_type": "code",
   "execution_count": 7,
   "metadata": {},
   "outputs": [],
   "source": [
    "diction = jsondata[2][\"reason_loss\"]"
   ]
  },
  {
   "cell_type": "code",
   "execution_count": 17,
   "metadata": {},
   "outputs": [],
   "source": [
    "A=diction.keys()"
   ]
  },
  {
   "cell_type": "code",
   "execution_count": 18,
   "metadata": {},
   "outputs": [
    {
     "data": {
      "text/plain": [
       "dict_keys(['msp_loss', 'weight_loss'])"
      ]
     },
     "execution_count": 18,
     "metadata": {},
     "output_type": "execute_result"
    }
   ],
   "source": [
    "A"
   ]
  },
  {
   "cell_type": "code",
   "execution_count": 20,
   "metadata": {},
   "outputs": [],
   "source": [
    "B=diction.values()"
   ]
  },
  {
   "cell_type": "code",
   "execution_count": 21,
   "metadata": {},
   "outputs": [
    {
     "data": {
      "text/plain": [
       "dict_values([{'loss': 1, 'actual_card_rate': 6.12, 'expected_card_rate': 9.57}, {'loss': 1, 'wt_loss_desc1': 'AKV-LAM', 'wt_loss_val_exp1': 1.0, 'wt_loss_val_act1': 1.2137}])"
      ]
     },
     "execution_count": 21,
     "metadata": {},
     "output_type": "execute_result"
    }
   ],
   "source": [
    "B"
   ]
  },
  {
   "cell_type": "code",
   "execution_count": 22,
   "metadata": {},
   "outputs": [
    {
     "ename": "TypeError",
     "evalue": "'dict_values' object does not support indexing",
     "output_type": "error",
     "traceback": [
      "\u001b[1;31m---------------------------------------------------------------------------\u001b[0m",
      "\u001b[1;31mTypeError\u001b[0m                                 Traceback (most recent call last)",
      "\u001b[1;32m<ipython-input-22-ee721d8948fe>\u001b[0m in \u001b[0;36m<module>\u001b[1;34m()\u001b[0m\n\u001b[1;32m----> 1\u001b[1;33m \u001b[0mB\u001b[0m\u001b[1;33m[\u001b[0m\u001b[1;36m1\u001b[0m\u001b[1;33m]\u001b[0m\u001b[1;33m\u001b[0m\u001b[0m\n\u001b[0m",
      "\u001b[1;31mTypeError\u001b[0m: 'dict_values' object does not support indexing"
     ]
    }
   ],
   "source": []
  },
  {
   "cell_type": "code",
   "execution_count": 4,
   "metadata": {},
   "outputs": [],
   "source": [
    "df1 = pd.DataFrame(jsondata[2][\"reason_loss\"])"
   ]
  },
  {
   "cell_type": "code",
   "execution_count": 5,
   "metadata": {},
   "outputs": [
    {
     "data": {
      "text/html": [
       "<div>\n",
       "<style scoped>\n",
       "    .dataframe tbody tr th:only-of-type {\n",
       "        vertical-align: middle;\n",
       "    }\n",
       "\n",
       "    .dataframe tbody tr th {\n",
       "        vertical-align: top;\n",
       "    }\n",
       "\n",
       "    .dataframe thead th {\n",
       "        text-align: right;\n",
       "    }\n",
       "</style>\n",
       "<table border=\"1\" class=\"dataframe\">\n",
       "  <thead>\n",
       "    <tr style=\"text-align: right;\">\n",
       "      <th></th>\n",
       "      <th>msp_loss</th>\n",
       "      <th>weight_loss</th>\n",
       "    </tr>\n",
       "  </thead>\n",
       "  <tbody>\n",
       "    <tr>\n",
       "      <th>actual_card_rate</th>\n",
       "      <td>6.12</td>\n",
       "      <td>NaN</td>\n",
       "    </tr>\n",
       "    <tr>\n",
       "      <th>expected_card_rate</th>\n",
       "      <td>9.57</td>\n",
       "      <td>NaN</td>\n",
       "    </tr>\n",
       "    <tr>\n",
       "      <th>loss</th>\n",
       "      <td>1.00</td>\n",
       "      <td>1</td>\n",
       "    </tr>\n",
       "    <tr>\n",
       "      <th>wt_loss_desc1</th>\n",
       "      <td>NaN</td>\n",
       "      <td>AKV-LAM</td>\n",
       "    </tr>\n",
       "    <tr>\n",
       "      <th>wt_loss_val_act1</th>\n",
       "      <td>NaN</td>\n",
       "      <td>1.2137</td>\n",
       "    </tr>\n",
       "    <tr>\n",
       "      <th>wt_loss_val_exp1</th>\n",
       "      <td>NaN</td>\n",
       "      <td>1</td>\n",
       "    </tr>\n",
       "  </tbody>\n",
       "</table>\n",
       "</div>"
      ],
      "text/plain": [
       "                    msp_loss weight_loss\n",
       "actual_card_rate        6.12         NaN\n",
       "expected_card_rate      9.57         NaN\n",
       "loss                    1.00           1\n",
       "wt_loss_desc1            NaN     AKV-LAM\n",
       "wt_loss_val_act1         NaN      1.2137\n",
       "wt_loss_val_exp1         NaN           1"
      ]
     },
     "execution_count": 5,
     "metadata": {},
     "output_type": "execute_result"
    }
   ],
   "source": [
    "df1"
   ]
  },
  {
   "cell_type": "code",
   "execution_count": 34,
   "metadata": {},
   "outputs": [
    {
     "data": {
      "text/plain": [
       "6.12"
      ]
     },
     "execution_count": 34,
     "metadata": {},
     "output_type": "execute_result"
    }
   ],
   "source": [
    "df1[\"msp_loss\"][\"actual_card_rate\"]"
   ]
  },
  {
   "cell_type": "code",
   "execution_count": 27,
   "metadata": {},
   "outputs": [
    {
     "name": "stdout",
     "output_type": "stream",
     "text": [
      "                    msp_loss weight_loss\n",
      "actual_card_rate        6.12         NaN\n",
      "expected_card_rate      9.57         NaN\n",
      "loss                    1.00           1\n",
      "wt_loss_desc1            NaN     AKV-LAM\n",
      "wt_loss_val_act1         NaN      1.2137\n",
      "wt_loss_val_exp1         NaN           1\n"
     ]
    }
   ],
   "source": [
    "val=df1.iloc[:]\n",
    "print(val)"
   ]
  },
  {
   "cell_type": "code",
   "execution_count": null,
   "metadata": {},
   "outputs": [],
   "source": [
    "col_name = list(df1.index.values)"
   ]
  },
  {
   "cell_type": "code",
   "execution_count": null,
   "metadata": {},
   "outputs": [],
   "source": [
    "col_name"
   ]
  },
  {
   "cell_type": "code",
   "execution_count": null,
   "metadata": {},
   "outputs": [],
   "source": [
    "col = df1.columns"
   ]
  },
  {
   "cell_type": "code",
   "execution_count": null,
   "metadata": {},
   "outputs": [],
   "source": [
    "col"
   ]
  },
  {
   "cell_type": "code",
   "execution_count": null,
   "metadata": {},
   "outputs": [],
   "source": [
    "len(col)"
   ]
  },
  {
   "cell_type": "code",
   "execution_count": null,
   "metadata": {},
   "outputs": [],
   "source": [
    "str1=col[1]+\"_\""
   ]
  },
  {
   "cell_type": "code",
   "execution_count": null,
   "metadata": {},
   "outputs": [],
   "source": [
    "str1"
   ]
  },
  {
   "cell_type": "code",
   "execution_count": null,
   "metadata": {},
   "outputs": [],
   "source": [
    "new_col=[str1 + s for s in col_name]"
   ]
  },
  {
   "cell_type": "code",
   "execution_count": null,
   "metadata": {},
   "outputs": [],
   "source": [
    "new_col"
   ]
  },
  {
   "cell_type": "code",
   "execution_count": null,
   "metadata": {},
   "outputs": [],
   "source": [
    "df1"
   ]
  },
  {
   "cell_type": "code",
   "execution_count": null,
   "metadata": {},
   "outputs": [],
   "source": [
    "df.append(df1)"
   ]
  },
  {
   "cell_type": "code",
   "execution_count": 101,
   "metadata": {},
   "outputs": [
    {
     "name": "stderr",
     "output_type": "stream",
     "text": [
      "C:\\Users\\tci1\\Anaconda3\\lib\\site-packages\\pandas\\core\\frame.py:6211: FutureWarning: Sorting because non-concatenation axis is not aligned. A future version\n",
      "of pandas will change to not sort by default.\n",
      "\n",
      "To accept the future behavior, pass 'sort=False'.\n",
      "\n",
      "To retain the current behavior and silence the warning, pass 'sort=True'.\n",
      "\n",
      "  sort=sort)\n"
     ]
    },
    {
     "name": "stdout",
     "output_type": "stream",
     "text": [
      "   BRANCH    CNSDT        CNSNO CNSTO      EXP  INCOME          _id  \\\n",
      "0     AKV  43434.0  724435670.0   AKR  5272.75  3584.0  724435670.0   \n",
      "1     AKV  43434.0  724435670.0   AKR  5272.75  3584.0  724435670.0   \n",
      "2     AKV  43428.0  724423206.0   AKR  3888.76  3654.0  724423206.0   \n",
      "3     AKV  43423.0  724422683.0   AKR  1725.34  1373.0  724422683.0   \n",
      "4     AKV  43423.0  724422683.0   AKR  1725.34  1373.0  724422683.0   \n",
      "5     AKV  43410.0  724421865.0   AKR   803.65   731.0  724421865.0   \n",
      "6     AKV  43410.0  724421865.0   AKR   803.65   731.0  724421865.0   \n",
      "7     AKV  43404.0  724420071.0   AKR   787.24   681.0  724420071.0   \n",
      "8     AKV  43403.0  724420104.0   AKR   437.36   436.0  724420104.0   \n",
      "9     AKV  43403.0  724420126.0   AKR  1151.05   956.0  724420126.0   \n",
      "10    AKV  43390.0  724399384.0   AKR   544.56   543.0  724399384.0   \n",
      "11    AKV  43382.0  724398662.0   AKR  1154.29   986.0  724398662.0   \n",
      "12    AKV  43378.0  724398500.0   AKR  7643.33  6394.0  724398500.0   \n",
      "\n",
      "    msp_loss_actual_card_rate  msp_loss_expected_card_rate  msp_loss_loss  \\\n",
      "0                        6.12                         9.57            1.0   \n",
      "1                         NaN                          NaN            NaN   \n",
      "2                        6.12                         8.98            1.0   \n",
      "3                        6.12                         9.57            1.0   \n",
      "4                         NaN                          NaN            NaN   \n",
      "5                        6.12                         9.57            1.0   \n",
      "6                         NaN                          NaN            NaN   \n",
      "7                        6.12                         9.57            1.0   \n",
      "8                        6.12                         9.57            1.0   \n",
      "9                        6.12                         9.57            1.0   \n",
      "10                       6.12                         9.57            1.0   \n",
      "11                       6.12                         9.57            1.0   \n",
      "12                       6.12                         8.98            1.0   \n",
      "\n",
      "    msp_loss_wt_loss_desc1  msp_loss_wt_loss_val_act1  \\\n",
      "0                      NaN                        NaN   \n",
      "1                      NaN                        NaN   \n",
      "2                      NaN                        NaN   \n",
      "3                      NaN                        NaN   \n",
      "4                      NaN                        NaN   \n",
      "5                      NaN                        NaN   \n",
      "6                      NaN                        NaN   \n",
      "7                      NaN                        NaN   \n",
      "8                      NaN                        NaN   \n",
      "9                      NaN                        NaN   \n",
      "10                     NaN                        NaN   \n",
      "11                     NaN                        NaN   \n",
      "12                     NaN                        NaN   \n",
      "\n",
      "    msp_loss_wt_loss_val_exp1  weight_loss_actual_card_rate  \\\n",
      "0                         NaN                           NaN   \n",
      "1                         NaN                           NaN   \n",
      "2                         NaN                           NaN   \n",
      "3                         NaN                           NaN   \n",
      "4                         NaN                           NaN   \n",
      "5                         NaN                           NaN   \n",
      "6                         NaN                           NaN   \n",
      "7                         NaN                           NaN   \n",
      "8                         NaN                           NaN   \n",
      "9                         NaN                           NaN   \n",
      "10                        NaN                           NaN   \n",
      "11                        NaN                           NaN   \n",
      "12                        NaN                           NaN   \n",
      "\n",
      "    weight_loss_expected_card_rate  weight_loss_loss  \\\n",
      "0                              NaN               NaN   \n",
      "1                              NaN               1.0   \n",
      "2                              NaN               NaN   \n",
      "3                              NaN               NaN   \n",
      "4                              NaN               1.0   \n",
      "5                              NaN               NaN   \n",
      "6                              NaN               1.0   \n",
      "7                              NaN               NaN   \n",
      "8                              NaN               NaN   \n",
      "9                              NaN               NaN   \n",
      "10                             NaN               NaN   \n",
      "11                             NaN               NaN   \n",
      "12                             NaN               NaN   \n",
      "\n",
      "   weight_loss_wt_loss_desc1  weight_loss_wt_loss_val_act1  \\\n",
      "0                        NaN                           NaN   \n",
      "1                    AKV-LAM                        1.0780   \n",
      "2                        NaN                           NaN   \n",
      "3                        NaN                           NaN   \n",
      "4                    AKV-LAM                        1.2137   \n",
      "5                        NaN                           NaN   \n",
      "6                    AKV-LAM                        1.6727   \n",
      "7                        NaN                           NaN   \n",
      "8                        NaN                           NaN   \n",
      "9                        NaN                           NaN   \n",
      "10                       NaN                           NaN   \n",
      "11                       NaN                           NaN   \n",
      "12                       NaN                           NaN   \n",
      "\n",
      "    weight_loss_wt_loss_val_exp1  \n",
      "0                            NaN  \n",
      "1                            1.0  \n",
      "2                            NaN  \n",
      "3                            NaN  \n",
      "4                            1.0  \n",
      "5                            NaN  \n",
      "6                            1.0  \n",
      "7                            NaN  \n",
      "8                            NaN  \n",
      "9                            NaN  \n",
      "10                           NaN  \n",
      "11                           NaN  \n",
      "12                           NaN  \n"
     ]
    }
   ],
   "source": [
    "import pandas as pd\n",
    "from pandas import ExcelWriter\n",
    "from pandas import ExcelFile\n",
    "import datetime\n",
    "def wexl(data):\n",
    "    system_datetime = datetime.datetime.now()\n",
    "    str1 = str(system_datetime)\n",
    "    str2 = str1.replace(\" \", \"_\")\n",
    "    str3 = str2.replace(\".\",\"_\")\n",
    "    str4 = str3.replace(\":\",\"_\")\n",
    "    excelfilename = 'MongoData_'+str4+'.xlsx'\n",
    "    writer = ExcelWriter(excelfilename)\n",
    "    data.to_excel(writer,'Sheet1',index=False)\n",
    "    writer.save()\n",
    "def main():\n",
    "    df = pd.DataFrame(jsondata)\n",
    "    #print(\"original data \",df)\n",
    "    df3 = pd.DataFrame()\n",
    "    rows = len(df)\n",
    "    for i in range(0,rows):\n",
    "        df1 = pd.DataFrame(jsondata[i][\"reason_loss\"])\n",
    "        col_name = list(df1.index.values)\n",
    "        col = df1.columns\n",
    "        pre_row = len(col)\n",
    "        data=[]\n",
    "        for j in range(0,pre_row):\n",
    "            str1 = col[j]+\"_\"\n",
    "            str2=col[j]\n",
    "            val = [df1[col[j]][s] for s in col_name]\n",
    "            new_col_name=[str1 + s for s in col_name]\n",
    "            dict1= dict(zip( new_col_name, val))\n",
    "            data.append(dict1)\n",
    "            df2 = pd.DataFrame(data)\n",
    "        df2[\"CNSNO\"]=jsondata[i][\"CNSNO\"]\n",
    "        df3 = df3.append(df2, ignore_index=True)\n",
    "    #print(df3)\n",
    "    df4 = df.loc[:, df.columns != 'reason_loss']\n",
    "    df5=pd.merge(df4,df3,on='CNSNO')\n",
    "    #df5 = df4.append(df3,ignore_index=False)\n",
    "    print(df5)\n",
    "    wexl(df5)\n",
    "if __name__==\"__main__\":\n",
    "    main()"
   ]
  }
 ],
 "metadata": {
  "kernelspec": {
   "display_name": "Python 3",
   "language": "python",
   "name": "python3"
  },
  "language_info": {
   "codemirror_mode": {
    "name": "ipython",
    "version": 3
   },
   "file_extension": ".py",
   "mimetype": "text/x-python",
   "name": "python",
   "nbconvert_exporter": "python",
   "pygments_lexer": "ipython3",
   "version": "3.7.0"
  }
 },
 "nbformat": 4,
 "nbformat_minor": 2
}
